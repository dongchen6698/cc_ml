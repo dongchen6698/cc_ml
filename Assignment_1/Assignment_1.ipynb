{
 "cells": [
  {
   "cell_type": "markdown",
   "metadata": {},
   "source": [
    "# <center>Machine Learning</center>\n",
    "## <center>Assignment 1</center>\n",
    "__<center>Due: July 8, 2018 </center>__"
   ]
  },
  {
   "cell_type": "markdown",
   "metadata": {},
   "source": [
    "# 1. Linear and polynomial regression"
   ]
  },
  {
   "cell_type": "code",
   "execution_count": 29,
   "metadata": {},
   "outputs": [],
   "source": [
    "import numpy as np\n",
    "import pandas as pd\n",
    "\n",
    "%matplotlib inline\n",
    "import matplotlib\n",
    "import matplotlib.pyplot as plt\n",
    "import seaborn as sns\n",
    "# plt.style.use('fivethirtyeight')"
   ]
  },
  {
   "cell_type": "markdown",
   "metadata": {},
   "source": [
    "## 1.a"
   ]
  },
  {
   "cell_type": "code",
   "execution_count": 30,
   "metadata": {},
   "outputs": [],
   "source": [
    "x = np.loadtxt('./data/hw1x.dat')\n",
    "y = np.loadtxt('./data/h1wy.dat')"
   ]
  },
  {
   "cell_type": "code",
   "execution_count": 33,
   "metadata": {},
   "outputs": [
    {
     "data": {
      "image/png": "[encoded data removed]",
      "text/plain": [
       "<matplotlib.figure.Figure at 0x116e7a2e8>"
      ]
     },
     "metadata": {},
     "output_type": "display_data"
    }
   ],
   "source": [
    "plt.figure(figsize=(8,6))\n",
    "plt.scatter(x, y, c='g', alpha=0.8)\n",
    "plt.xlabel('X')\n",
    "plt.ylabel('Y')\n",
    "plt.show()"
   ]
  },
  {
   "cell_type": "markdown",
   "metadata": {},
   "source": [
    "## 1.b "
   ]
  },
  {
   "cell_type": "code",
   "execution_count": 34,
   "metadata": {},
   "outputs": [],
   "source": [
    "ones = np.ones(len(x))\n",
    "new_x = np.c_[x, ones]"
   ]
  },
  {
   "cell_type": "code",
   "execution_count": 35,
   "metadata": {},
   "outputs": [],
   "source": [
    "xtx = np.dot(new_x.T, new_x)\n",
    "xty = np.dot(new_x.T, y)"
   ]
  },
  {
   "cell_type": "code",
   "execution_count": 36,
   "metadata": {},
   "outputs": [
    {
     "data": {
      "text/plain": [
       "array([ 0.17531122,  0.32767539])"
      ]
     },
     "execution_count": 36,
     "metadata": {},
     "output_type": "execute_result"
    }
   ],
   "source": [
    "w = np.dot(np.linalg.inv(xtx), xty)\n",
    "w"
   ]
  },
  {
   "cell_type": "code",
   "execution_count": 37,
   "metadata": {},
   "outputs": [],
   "source": [
    "y_pred = w[0]* x + w[1]"
   ]
  },
  {
   "cell_type": "code",
   "execution_count": 38,
   "metadata": {},
   "outputs": [
    {
     "data": {
      "image/png": "[encoded data removed]",
      "text/plain": [
       "<matplotlib.figure.Figure at 0x116702160>"
      ]
     },
     "metadata": {},
     "output_type": "display_data"
    }
   ],
   "source": [
    "plt.figure(figsize=(8,6))\n",
    "plt.plot(x, y_pred)\n",
    "plt.scatter(x, y, c='g', alpha=0.8)\n",
    "plt.xlabel('X')\n",
    "plt.ylabel('Y')\n",
    "plt.show()"
   ]
  },
  {
   "cell_type": "markdown",
   "metadata": {},
   "source": [
    "## 1.c"
   ]
  },
  {
   "cell_type": "code",
   "execution_count": 9,
   "metadata": {},
   "outputs": [],
   "source": [
    "def mean_squared_error(y_true, y_pred):\n",
    "    errors = np.mean((y_true - y_pred) ** 2)\n",
    "    return errors\n",
    "\n",
    "def mean_absolute_error(y_true, y_pred):\n",
    "    errors = np.mean(np.abs(y_true - y_pred))\n",
    "    return errors\n",
    "\n",
    "def root_mean_squared_error(y_true, y_pred):\n",
    "    errors = np.sqrt(np.mean((y_true - y_pred) ** 2))\n",
    "    return errors\n",
    "                     \n",
    "def sum_of_squared_error(y_true, y_pred):\n",
    "    errors = np.sum((y_true - y_pred) ** 2)\n",
    "    return errors\n",
    "\n",
    "def r2_score(y_true, y_pred):\n",
    "    errors = 1 - (np.sum((y_true - np.mean(y_true)) ** 2))/(np.sum((y_true - y_pred) ** 2))\n",
    "    return errors"
   ]
  },
  {
   "cell_type": "code",
   "execution_count": 17,
   "metadata": {},
   "outputs": [
    {
     "name": "stdout",
     "output_type": "stream",
     "text": [
      "mean_squared_error:  0.66672890687\n",
      "mean_absolute_error:  0.70680308816\n",
      "root_mean_squared_error:  0.816534694223\n",
      "sum_of_squared_error:  66.672890687\n",
      "r2_score:  -1.04621306151\n"
     ]
    }
   ],
   "source": [
    "print('mean_squared_error: ', mean_squared_error(y, y_pred))\n",
    "print('mean_absolute_error: ', mean_absolute_error(y, y_pred))\n",
    "print('root_mean_squared_error: ', root_mean_squared_error(y, y_pred))\n",
    "print('sum_of_squared_error: ', sum_of_squared_error(y, y_pred))\n",
    "print('r2_score: ', r2_score(y, y_pred))"
   ]
  }
 ],
 "metadata": {
  "kernelspec": {
   "display_name": "Python 3",
   "language": "python",
   "name": "python3"
  },
  "language_info": {
   "codemirror_mode": {
    "name": "ipython",
    "version": 3
   },
   "file_extension": ".py",
   "mimetype": "text/x-python",
   "name": "python",
   "nbconvert_exporter": "python",
   "pygments_lexer": "ipython3",
   "version": "3.6.3"
  }
 },
 "nbformat": 4,
 "nbformat_minor": 2
}
